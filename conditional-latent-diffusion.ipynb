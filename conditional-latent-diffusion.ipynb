{
 "cells": [
  {
   "cell_type": "code",
   "execution_count": null,
   "metadata": {
    "execution": {
     "iopub.execute_input": "2023-06-10T14:57:32.281226Z",
     "iopub.status.busy": "2023-06-10T14:57:32.280855Z",
     "iopub.status.idle": "2023-06-10T14:57:37.352774Z",
     "shell.execute_reply": "2023-06-10T14:57:37.351165Z",
     "shell.execute_reply.started": "2023-06-10T14:57:32.281194Z"
    }
   },
   "outputs": [],
   "source": [
    "%%capture\n",
    "%pip install einops pytorch_lightning diffusers==0.12.1 kornia librosa accelerate ipympl"
   ]
  },
  {
   "cell_type": "code",
   "execution_count": null,
   "metadata": {
    "execution": {
     "iopub.execute_input": "2023-06-10T15:05:00.685879Z",
     "iopub.status.busy": "2023-06-10T15:05:00.685040Z",
     "iopub.status.idle": "2023-06-10T15:05:04.948337Z",
     "shell.execute_reply": "2023-06-10T15:05:04.947130Z",
     "shell.execute_reply.started": "2023-06-10T15:05:00.685836Z"
    }
   },
   "outputs": [],
   "source": [
    "import torch\n",
    "import torch.nn.functional as F\n",
    "import pytorch_lightning as pl\n",
    "\n",
    "import matplotlib as mpl\n",
    "import matplotlib.pyplot as plt\n",
    "from torchvision.utils import save_image\n",
    "\n",
    "from src import *\n",
    "\n",
    "mpl.rcParams['figure.figsize'] = (8, 8)\n",
    "device = torch.device(\"cuda:0\" if torch.cuda.is_available() else \"cpu\")"
   ]
  },
  {
   "attachments": {},
   "cell_type": "markdown",
   "metadata": {},
   "source": [
    "### Creating datasets"
   ]
  },
  {
   "cell_type": "code",
   "execution_count": null,
   "metadata": {
    "execution": {
     "iopub.execute_input": "2023-06-10T15:05:06.684050Z",
     "iopub.status.busy": "2023-06-10T15:05:06.683293Z",
     "iopub.status.idle": "2023-06-10T15:05:08.924040Z",
     "shell.execute_reply": "2023-06-10T15:05:08.923233Z",
     "shell.execute_reply.started": "2023-06-10T15:05:06.684016Z"
    }
   },
   "outputs": [],
   "source": [
    "train_ds=SpectrogramDataset(target_dir='datasets/randomMIDI/PianoViolin11025/WAV/train/ins3',\n",
    "                            condition_dir='datasets/randomMIDI/PianoViolin11025/WAV/train/mix',\n",
    "                            return_pair=True,\n",
    "                            out_channels=3\n",
    "                     )\n",
    "\n",
    "\n",
    "valid_ds=SpectrogramDataset(target_dir='datasets/randomMIDI/PianoViolin11025/WAV/val/ins3',\n",
    "                          condition_dir='datasets/randomMIDI/PianoViolin11025/WAV/val/mix',\n",
    "                          return_pair=True,\n",
    "                          out_channels=3\n",
    "                     )\n",
    "\n",
    "test_ds=SpectrogramDataset(target_dir='datasets/randomMIDI/PianoViolin11025/WAV/test/ins3',\n",
    "                           condition_dir='datasets/randomMIDI/PianoViolin11025/WAV/test/mix',\n",
    "                           return_pair=True,\n",
    "                           out_channels=3\n",
    "                     )\n",
    "\n",
    "img1,img2=train_ds[0]\n",
    "\n",
    "plt.subplot(1,2,1)\n",
    "plt.imshow(img1.permute(1,2,0))\n",
    "plt.subplot(1,2,2)\n",
    "plt.imshow(img2.permute(1,2,0))"
   ]
  },
  {
   "attachments": {},
   "cell_type": "markdown",
   "metadata": {},
   "source": [
    "### Testing autoencoder"
   ]
  },
  {
   "cell_type": "code",
   "execution_count": null,
   "metadata": {
    "execution": {
     "iopub.execute_input": "2023-06-10T15:05:08.926270Z",
     "iopub.status.busy": "2023-06-10T15:05:08.925415Z",
     "iopub.status.idle": "2023-06-10T15:05:11.333484Z",
     "shell.execute_reply": "2023-06-10T15:05:11.332314Z",
     "shell.execute_reply.started": "2023-06-10T15:05:08.926240Z"
    }
   },
   "outputs": [],
   "source": [
    "autoencoder = AutoencoderKL.from_pretrained(\"stabilityai/sd-vae-ft-ema\")\n",
    "pl_ae_model = Autoencoder(autoencoder).to(device)"
   ]
  },
  {
   "cell_type": "code",
   "execution_count": null,
   "metadata": {
    "execution": {
     "iopub.execute_input": "2023-06-10T15:05:11.335683Z",
     "iopub.status.busy": "2023-06-10T15:05:11.335388Z",
     "iopub.status.idle": "2023-06-10T15:05:13.205497Z",
     "shell.execute_reply": "2023-06-10T15:05:13.204234Z",
     "shell.execute_reply.started": "2023-06-10T15:05:11.335655Z"
    }
   },
   "outputs": [],
   "source": [
    "img, cond = test_ds[0]\n",
    "phase = test_ds.get_phase(0)\n",
    "\n",
    "plt.subplot(1,3,1)\n",
    "plt.imshow(cond.permute(1,2,0))\n",
    "plt.title('Input')\n",
    "plt.subplot(1,3,2)\n",
    "prod_img = pl_ae_model(cond.unsqueeze(0).to(device))\n",
    "plt.imshow(prod_img[0].detach().cpu().permute(1,2,0))\n",
    "plt.title('AutoEncoder Reconstruction')\n",
    "plt.subplot(1,3,3)\n",
    "prod_img2 = pl_ae_model.decode(pl_ae_model.encode(cond.unsqueeze(0).to(device)))\n",
    "plt.imshow(prod_img2[0].detach().cpu().permute(1,2,0))\n",
    "plt.title('AutoEncoder Reconstruction encode/decode')\n",
    "print(pl_ae_model.encode(cond.unsqueeze(0).to(device)).shape)\n",
    "\n",
    "print(prod_img.shape, prod_img2.shape)\n"
   ]
  },
  {
   "attachments": {},
   "cell_type": "markdown",
   "metadata": {},
   "source": [
    "### Model setup"
   ]
  },
  {
   "cell_type": "code",
   "execution_count": null,
   "metadata": {
    "execution": {
     "iopub.execute_input": "2023-06-10T15:05:13.208118Z",
     "iopub.status.busy": "2023-06-10T15:05:13.207144Z",
     "iopub.status.idle": "2023-06-10T15:05:13.871392Z",
     "shell.execute_reply": "2023-06-10T15:05:13.870264Z",
     "shell.execute_reply.started": "2023-06-10T15:05:13.208071Z"
    }
   },
   "outputs": [],
   "source": [
    "model=LatentDiffusionConditional(train_ds,\n",
    "                                 autoencoder=pl_ae_model,\n",
    "                                 valid_dataset=valid_ds,\n",
    "                                 lr=1e-4,\n",
    "                                 batch_size=8,\n",
    "                                 schedule='linear',\n",
    "                                 warm_up_steps=10000,\n",
    "                                 num_timesteps=1000,\n",
    "                                 loss_fn=F.l1_loss)"
   ]
  },
  {
   "attachments": {},
   "cell_type": "markdown",
   "metadata": {},
   "source": [
    "### Training"
   ]
  },
  {
   "cell_type": "code",
   "execution_count": null,
   "metadata": {
    "execution": {
     "iopub.execute_input": "2023-06-10T15:05:13.873535Z",
     "iopub.status.busy": "2023-06-10T15:05:13.873283Z",
     "iopub.status.idle": "2023-06-10T15:05:14.277182Z",
     "shell.execute_reply": "2023-06-10T15:05:14.276314Z",
     "shell.execute_reply.started": "2023-06-10T15:05:13.873509Z"
    }
   },
   "outputs": [],
   "source": [
    "trainer = pl.Trainer(\n",
    "    default_root_dir=\"trained_models/latent_diffusion/test\",\n",
    "    max_epochs=3000,\n",
    "    callbacks=[EMA(0.9999)],\n",
    "    accelerator='auto'\n",
    ")"
   ]
  },
  {
   "cell_type": "code",
   "execution_count": null,
   "metadata": {
    "execution": {
     "iopub.execute_input": "2023-04-30T17:05:33.043543Z",
     "iopub.status.busy": "2023-04-30T17:05:33.042913Z",
     "iopub.status.idle": "2023-04-30T18:51:35.745887Z",
     "shell.execute_reply": "2023-04-30T18:51:35.744957Z",
     "shell.execute_reply.started": "2023-04-30T17:05:33.043513Z"
    }
   },
   "outputs": [],
   "source": [
    "trainer.fit(model)"
   ]
  },
  {
   "attachments": {},
   "cell_type": "markdown",
   "metadata": {},
   "source": [
    "### Create sample"
   ]
  },
  {
   "cell_type": "code",
   "execution_count": null,
   "metadata": {
    "execution": {
     "iopub.execute_input": "2023-04-30T18:51:42.182435Z",
     "iopub.status.busy": "2023-04-30T18:51:42.182077Z",
     "iopub.status.idle": "2023-04-30T18:52:02.094263Z",
     "shell.execute_reply": "2023-04-30T18:52:02.093566Z",
     "shell.execute_reply.started": "2023-04-30T18:51:42.182399Z"
    }
   },
   "outputs": [],
   "source": [
    "song_num = 0\n",
    "condition, target=test_ds[song_num]\n",
    "batch_input=torch.stack(4*[condition],0).to(device)\n",
    "\n",
    "out=model(batch_input, verbose=True).to(device)\n",
    "if test_ds.return_mask:\n",
    "        out = out * condition"
   ]
  },
  {
   "cell_type": "code",
   "execution_count": null,
   "metadata": {
    "execution": {
     "iopub.execute_input": "2023-04-30T18:52:03.521943Z",
     "iopub.status.busy": "2023-04-30T18:52:03.521511Z",
     "iopub.status.idle": "2023-04-30T18:52:03.850366Z",
     "shell.execute_reply": "2023-04-30T18:52:03.849474Z",
     "shell.execute_reply.started": "2023-04-30T18:52:03.521914Z"
    }
   },
   "outputs": [],
   "source": [
    "plt.subplot(1,2+len(out),1)\n",
    "plt.imshow(condition.permute(1,2,0))\n",
    "plt.title('Input')\n",
    "plt.axis('off')\n",
    "for idx in range(out.shape[0]):\n",
    "    plt.subplot(1,2+len(out),idx+2)\n",
    "    plt.imshow(out[idx].detach().cpu().permute(1,2,0))\n",
    "    plt.axis('off')\n",
    "plt.subplot(1,2+len(out),2+len(out))\n",
    "plt.imshow(target.permute(1,2,0))\n",
    "plt.title('Ground Truth')\n",
    "plt.axis('off')"
   ]
  },
  {
   "cell_type": "code",
   "execution_count": null,
   "metadata": {},
   "outputs": [],
   "source": [
    "phase = test_ds.get_phase(song_num)\n",
    "\n",
    "name = test_ds.files[song_num]\n",
    "test_ds.save_audio(out[0].detach().cpu(), phase, name = 'produced_' +  name)\n",
    "test_ds.save_audio(target, phase, name = 'target_' + name)\n",
    "test_ds.save_audio(condition, phase, name = 'condition_' + name)\n",
    "save_image(out[0], 'results/produced_' + name.replace('wav','png'))\n",
    "save_image(condition, 'results/condition_' + name.replace('wav','png'))\n",
    "save_image(target, 'results/target_' + name.replace('wav','png'))"
   ]
  }
 ],
 "metadata": {
  "kernelspec": {
   "display_name": "Python 3 (ipykernel)",
   "language": "python",
   "name": "python3"
  },
  "language_info": {
   "codemirror_mode": {
    "name": "ipython",
    "version": 3
   },
   "file_extension": ".py",
   "mimetype": "text/x-python",
   "name": "python",
   "nbconvert_exporter": "python",
   "pygments_lexer": "ipython3",
   "version": "3.9.16"
  },
  "vscode": {
   "interpreter": {
    "hash": "9c51ce0507ee92158ec6cc9f8889932a0a84d6c61c0b9a7e6ae2beb6ccb07ed9"
   }
  }
 },
 "nbformat": 4,
 "nbformat_minor": 4
}
