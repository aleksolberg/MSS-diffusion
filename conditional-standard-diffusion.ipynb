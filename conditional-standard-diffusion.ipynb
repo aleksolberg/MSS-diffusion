{
 "cells": [
  {
   "cell_type": "code",
   "execution_count": null,
   "metadata": {
    "execution": {
     "iopub.execute_input": "2023-06-12T08:06:28.429015Z",
     "iopub.status.busy": "2023-06-12T08:06:28.428679Z",
     "iopub.status.idle": "2023-06-12T08:06:48.350617Z",
     "shell.execute_reply": "2023-06-12T08:06:48.349591Z",
     "shell.execute_reply.started": "2023-06-12T08:06:28.428988Z"
    }
   },
   "outputs": [],
   "source": [
    "%%capture\n",
    "%pip install einops pytorch_lightning diffusers==0.12.1 kornia librosa accelerate torchvision pandas==1.5.2"
   ]
  },
  {
   "cell_type": "code",
   "execution_count": 1,
   "metadata": {
    "execution": {
     "iopub.execute_input": "2023-06-12T08:06:48.352874Z",
     "iopub.status.busy": "2023-06-12T08:06:48.352198Z",
     "iopub.status.idle": "2023-06-12T08:06:52.204421Z",
     "shell.execute_reply": "2023-06-12T08:06:52.203160Z",
     "shell.execute_reply.started": "2023-06-12T08:06:48.352843Z"
    }
   },
   "outputs": [],
   "source": [
    "import torch\n",
    "import pytorch_lightning as pl\n",
    "\n",
    "import numpy as np\n",
    "import matplotlib as mpl\n",
    "import matplotlib.pyplot as plt\n",
    "from torchvision.utils import save_image\n",
    "\n",
    "from src import *\n",
    "\n",
    "mpl.rcParams['figure.figsize'] = (8, 8)\n",
    "device = torch.device(\"cuda:0\" if torch.cuda.is_available() else \"cpu\")"
   ]
  },
  {
   "attachments": {},
   "cell_type": "markdown",
   "metadata": {},
   "source": [
    "### Datasets\n"
   ]
  },
  {
   "cell_type": "code",
   "execution_count": null,
   "metadata": {
    "execution": {
     "iopub.execute_input": "2023-06-12T08:06:52.207111Z",
     "iopub.status.busy": "2023-06-12T08:06:52.206559Z",
     "iopub.status.idle": "2023-06-12T08:07:00.976219Z",
     "shell.execute_reply": "2023-06-12T08:07:00.973474Z",
     "shell.execute_reply.started": "2023-06-12T08:06:52.207066Z"
    }
   },
   "outputs": [],
   "source": [
    "from dataset import SpectrogramDataset\n",
    "\n",
    "train_ds=SpectrogramDataset(target_dir='datasets/randomMIDI/PianoViolin11025/WAV/train/ins3',\n",
    "                            condition_dir='datasets/randomMIDI/PianoViolin11025/WAV/train/mix',\n",
    "                            return_pair=True,\n",
    "                            out_channels=1\n",
    "                     )\n",
    "\n",
    "\n",
    "valid_ds=SpectrogramDataset(target_dir='datasets/randomMIDI/PianoViolin11025/WAV/val/ins3',\n",
    "                          condition_dir='datasets/randomMIDI/PianoViolin11025/WAV/val/mix',\n",
    "                          return_pair=True,\n",
    "                          out_channels=1\n",
    "                     )\n",
    "\n",
    "test_ds=SpectrogramDataset(target_dir='datasets/randomMIDI/PianoViolin11025/WAV/test/ins3',\n",
    "                           condition_dir='datasets/randomMIDI/PianoViolin11025/WAV/test/mix',\n",
    "                           return_pair=True,\n",
    "                           out_channels=1\n",
    "                     )\n",
    "\n",
    "img1,img2=train_ds[0]\n",
    "print(img1.shape)\n",
    "\n",
    "plt.subplot(1,2,1)\n",
    "plt.imshow(img1.permute(1,2,0))\n",
    "plt.subplot(1,2,2)\n",
    "plt.imshow(img2.permute(1,2,0))"
   ]
  },
  {
   "attachments": {},
   "cell_type": "markdown",
   "metadata": {},
   "source": [
    "### Model setup"
   ]
  },
  {
   "cell_type": "code",
   "execution_count": null,
   "metadata": {
    "execution": {
     "iopub.execute_input": "2023-06-12T08:07:00.980386Z",
     "iopub.status.busy": "2023-06-12T08:07:00.977271Z",
     "iopub.status.idle": "2023-06-12T08:07:01.569893Z",
     "shell.execute_reply": "2023-06-12T08:07:01.569160Z",
     "shell.execute_reply.started": "2023-06-12T08:07:00.980350Z"
    }
   },
   "outputs": [],
   "source": [
    "model=PixelDiffusionConditional(train_ds,\n",
    "                                valid_dataset=valid_ds,\n",
    "                                lr=1e-4,\n",
    "                                batch_size=8,\n",
    "                                warm_up_steps=10000,\n",
    "                                num_timesteps=1000,\n",
    "                                loss_fn=torch.nn.functional.l1_loss)"
   ]
  },
  {
   "attachments": {},
   "cell_type": "markdown",
   "metadata": {},
   "source": [
    "### Training"
   ]
  },
  {
   "cell_type": "code",
   "execution_count": null,
   "metadata": {
    "execution": {
     "iopub.execute_input": "2023-06-12T08:07:01.572298Z",
     "iopub.status.busy": "2023-06-12T08:07:01.571256Z",
     "iopub.status.idle": "2023-06-12T08:07:01.721361Z",
     "shell.execute_reply": "2023-06-12T08:07:01.720717Z",
     "shell.execute_reply.started": "2023-06-12T08:07:01.572269Z"
    }
   },
   "outputs": [],
   "source": [
    "trainer = pl.Trainer(\n",
    "    default_root_dir=\"trained_models/diffusion/L1/\",\n",
    "    max_epochs=2000,\n",
    "    callbacks=[EMA(0.9999)],\n",
    "    accelerator='auto'\n",
    ")"
   ]
  },
  {
   "cell_type": "code",
   "execution_count": null,
   "metadata": {
    "execution": {
     "iopub.execute_input": "2023-05-03T21:09:14.693377Z",
     "iopub.status.busy": "2023-05-03T21:09:14.692620Z",
     "iopub.status.idle": "2023-05-03T21:09:17.346155Z",
     "shell.execute_reply": "2023-05-03T21:09:17.345384Z",
     "shell.execute_reply.started": "2023-05-03T21:09:14.693348Z"
    }
   },
   "outputs": [],
   "source": [
    "trainer.fit(model)"
   ]
  },
  {
   "attachments": {},
   "cell_type": "markdown",
   "metadata": {},
   "source": [
    "### Sampling"
   ]
  },
  {
   "cell_type": "code",
   "execution_count": null,
   "metadata": {
    "execution": {
     "iopub.execute_input": "2023-05-08T08:05:04.675467Z",
     "iopub.status.busy": "2023-05-08T08:05:04.674759Z",
     "iopub.status.idle": "2023-05-08T08:06:25.685187Z",
     "shell.execute_reply": "2023-05-08T08:06:25.684157Z",
     "shell.execute_reply.started": "2023-05-08T08:05:04.675430Z"
    }
   },
   "outputs": [],
   "source": [
    "song_num = 0\n",
    "condition,target=test_ds[song_num]\n",
    "batch_input=torch.stack(1*[condition],0).to(device)\n",
    "\n",
    "model.to(device)\n",
    "out=model(batch_input, verbose=True)\n",
    "if test_ds.return_mask:\n",
    "    out = out * condition"
   ]
  },
  {
   "cell_type": "code",
   "execution_count": null,
   "metadata": {
    "execution": {
     "iopub.execute_input": "2023-05-08T08:06:40.400313Z",
     "iopub.status.busy": "2023-05-08T08:06:40.399899Z",
     "iopub.status.idle": "2023-05-08T08:06:40.695121Z",
     "shell.execute_reply": "2023-05-08T08:06:40.694126Z",
     "shell.execute_reply.started": "2023-05-08T08:06:40.400271Z"
    }
   },
   "outputs": [],
   "source": [
    "plt.subplot(1,2+len(out),1)\n",
    "plt.imshow(condition.permute(1,2,0))\n",
    "plt.title('Input')\n",
    "plt.axis('off')\n",
    "for idx in range(out.shape[0]):\n",
    "    plt.subplot(1,2+len(out),idx+2)\n",
    "    plt.imshow(out[idx].detach().cpu().permute(1,2,0))\n",
    "    plt.axis('off')\n",
    "plt.subplot(1,2+len(out),2+len(out))\n",
    "plt.imshow(target.permute(1,2,0))\n",
    "plt.title('Ground Truth')\n",
    "plt.axis('off')"
   ]
  },
  {
   "cell_type": "code",
   "execution_count": null,
   "metadata": {
    "execution": {
     "iopub.execute_input": "2023-05-04T06:56:21.478522Z",
     "iopub.status.busy": "2023-05-04T06:56:21.477875Z",
     "iopub.status.idle": "2023-05-04T06:56:21.603859Z",
     "shell.execute_reply": "2023-05-04T06:56:21.603122Z",
     "shell.execute_reply.started": "2023-05-04T06:56:21.478482Z"
    }
   },
   "outputs": [],
   "source": [
    "phase = test_ds.get_phase(song_num)\n",
    "\n",
    "name = test_ds.files[song_num]\n",
    "test_ds.save_audio(out[0].detach().cpu(), phase, name = 'produced_' +  name)\n",
    "test_ds.save_audio(target, phase, name = 'target_' + name)\n",
    "test_ds.save_audio(condition, phase, name = 'condition_' + name)\n",
    "save_image(out[0], 'results/produced_' + name.replace('wav','png'))\n",
    "save_image(condition, 'results/condition_' + name.replace('wav','png'))\n",
    "save_image(target, 'results/target_' + name.replace('wav','png'))"
   ]
  }
 ],
 "metadata": {
  "kernelspec": {
   "display_name": "Python 3 (ipykernel)",
   "language": "python",
   "name": "python3"
  },
  "language_info": {
   "codemirror_mode": {
    "name": "ipython",
    "version": 3
   },
   "file_extension": ".py",
   "mimetype": "text/x-python",
   "name": "python",
   "nbconvert_exporter": "python",
   "pygments_lexer": "ipython3",
   "version": "3.9.15"
  }
 },
 "nbformat": 4,
 "nbformat_minor": 4
}
