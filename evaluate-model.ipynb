{
 "cells": [
  {
   "cell_type": "code",
   "execution_count": null,
   "metadata": {},
   "outputs": [],
   "source": [
    "%%capture\n",
    "%pip install einops pytorch_lightning diffusers==0.12.1 kornia librosa accelerate ipympl nussl pandas==1.5.2 accelerate"
   ]
  },
  {
   "cell_type": "code",
   "execution_count": null,
   "metadata": {
    "execution": {
     "iopub.execute_input": "2023-06-12T11:26:08.687107Z",
     "iopub.status.busy": "2023-06-12T11:26:08.686482Z",
     "iopub.status.idle": "2023-06-12T11:26:11.558575Z",
     "shell.execute_reply": "2023-06-12T11:26:11.557790Z",
     "shell.execute_reply.started": "2023-06-12T11:26:08.687078Z"
    }
   },
   "outputs": [],
   "source": [
    "import torch\n",
    "import matplotlib.pyplot as plt\n",
    "import nussl\n",
    "import nussl.evaluation as ne\n",
    "import json\n",
    "import glob\n",
    "\n",
    "from src import *\n",
    "\n",
    "device = torch.device(\"cuda:0\" if torch.cuda.is_available() else \"cpu\")"
   ]
  },
  {
   "attachments": {},
   "cell_type": "markdown",
   "metadata": {},
   "source": [
    "### Dataset"
   ]
  },
  {
   "cell_type": "code",
   "execution_count": null,
   "metadata": {},
   "outputs": [],
   "source": [
    "train_ds=SpectrogramDataset(target_dir='datasets/randomMIDI/PianoViolin11025/WAV/train/ins3',\n",
    "                            condition_dir='datasets/randomMIDI/PianoViolin11025/WAV/train/mix',\n",
    "                            return_pair=True\n",
    "                     )\n",
    "\n",
    "\n",
    "valid_ds=SpectrogramDataset(target_dir='datasets/randomMIDI/PianoViolin11025/WAV/val/ins3',\n",
    "                          condition_dir='datasets/randomMIDI/PianoViolin11025/WAV/val/mix',\n",
    "                          return_pair=True\n",
    "                     )\n",
    "\n",
    "test_ds=SpectrogramDataset(target_dir='datasets/randomMIDI/PianoViolin11025/WAV/test/ins3',\n",
    "                           condition_dir='datasets/randomMIDI/PianoViolin11025/WAV/test/mix',\n",
    "                           return_pair=True\n",
    "                     )\n",
    "\n",
    "condition, target = test_ds[0]\n",
    "\n",
    "plt.subplot(1,2,1)\n",
    "plt.imshow(condition.permute(1,2,0))\n",
    "plt.subplot(1,2,2)\n",
    "plt.imshow(target.permute(1,2,0))"
   ]
  },
  {
   "attachments": {},
   "cell_type": "markdown",
   "metadata": {},
   "source": [
    "### SSDM"
   ]
  },
  {
   "cell_type": "code",
   "execution_count": null,
   "metadata": {},
   "outputs": [],
   "source": [
    "train_ds.out_channels, valid_ds.out_channels, test_ds.out_channels = (1,1,1)\n",
    "train_ds.return_mask, valid_ds.return_mask, test_ds.return_mask = (False, False, False)\n",
    "\n",
    "model_path = 'trained_models/ssdm/lightning_logs/version_0/'\n",
    "model = PixelDiffusionConditional.load_from_checkpoint(model_path+'checkpoints/epoch=1999-step=126620.ckpt', train_dataset = test_ds).to(device)"
   ]
  },
  {
   "attachments": {},
   "cell_type": "markdown",
   "metadata": {},
   "source": [
    "### SLDM"
   ]
  },
  {
   "cell_type": "code",
   "execution_count": null,
   "metadata": {},
   "outputs": [],
   "source": [
    "train_ds.out_channels, valid_ds.out_channels, test_ds.out_channels = (3,3,3)\n",
    "train_ds.return_mask, valid_ds.return_mask, test_ds.return_mask = (False, False, False)\n",
    "\n",
    "autoencoder = AutoencoderKL.from_pretrained(\"stabilityai/sd-vae-ft-ema\")\n",
    "pl_ae_model = Autoencoder(autoencoder).to(device)\n",
    "model_path = 'trained_models/sldm/lightning_logs/version_0/'\n",
    "model = LatentDiffusionConditional.load_from_checkpoint(model_path + 'checkpoints/epoch=1999-step=126000.ckpt', train_dataset = test_ds, autoencoder = pl_ae_model).to(device)"
   ]
  },
  {
   "attachments": {},
   "cell_type": "markdown",
   "metadata": {},
   "source": [
    "### MLDM"
   ]
  },
  {
   "cell_type": "code",
   "execution_count": null,
   "metadata": {},
   "outputs": [],
   "source": [
    "train_ds.out_channels, valid_ds.out_channels, test_ds.out_channels = (3,3,3)\n",
    "train_ds.return_mask, valid_ds.return_mask, test_ds.return_mask = (True, True, True)\n",
    "\n",
    "autoencoder = AutoencoderKL.from_pretrained(\"stabilityai/sd-vae-ft-ema\")\n",
    "pl_ae_model = Autoencoder(autoencoder).to(device)\n",
    "model_path = 'trained_models/mldm/lightning_logs/version_0/'\n",
    "model = LatentDiffusionConditional.load_from_checkpoint(model_path + 'checkpoints/epoch=1999-step=126000.ckpt', train_dataset = test_ds, autoencoder = pl_ae_model).to(device)"
   ]
  },
  {
   "attachments": {},
   "cell_type": "markdown",
   "metadata": {},
   "source": [
    "### Simple UNet"
   ]
  },
  {
   "cell_type": "code",
   "execution_count": null,
   "metadata": {},
   "outputs": [],
   "source": [
    "train_ds.out_channels, valid_ds.out_channels, test_ds.out_channels = (1,1,1)\n",
    "train_ds.return_mask, valid_ds.return_mask, test_ds.return_mask = (True, True, True)\n",
    "\n",
    "model_path = 'trained_models/unet/lightning_logs/version_0/'\n",
    "model = plUnet.load_from_checkpoint(model_path+'checkpoints/epoch=1999-step=126000.ckpt', train_dataset = test_ds).to(device)"
   ]
  },
  {
   "attachments": {},
   "cell_type": "markdown",
   "metadata": {},
   "source": [
    "### Evaluation"
   ]
  },
  {
   "cell_type": "code",
   "execution_count": null,
   "metadata": {},
   "outputs": [],
   "source": [
    "ds = test_ds\n",
    "scores_folder = 'scores/test/'\n",
    "true_source_folder = 'datasets/randomMIDI/PianoViolin11025/WAV/test/'\n",
    "\n",
    "for i in range(len(ds)):\n",
    "    condition, target = ds[i]\n",
    "    out = model(condition.to(device).unsqueeze(0), verbose=True).detach().cpu()[0]\n",
    "    phase = ds.get_phase(i)\n",
    "    name = ds.files[i]\n",
    "\n",
    "    if test_ds.return_mask:\n",
    "        out = target * condition\n",
    "    \n",
    "    estimated_source = test_ds.to_audio(out, phase)\n",
    "    estimated_source = nussl.AudioSignal(audio_data_array=estimated_source, sample_rate=11025)\n",
    "\n",
    "    target_source = nussl.AudioSignal(true_source_folder + 'ins3/' + name, sample_rate = 11025).truncate_seconds(estimated_source.signal_duration)\n",
    "    mix = nussl.AudioSignal(true_source_folder + 'mix/' + name, sample_rate = 11025).truncate_seconds(estimated_source.signal_duration)\n",
    "\n",
    "    target_rest = mix - target_source\n",
    "    estimated_rest = mix - estimated_source\n",
    "\n",
    "    estimates = [estimated_source, estimated_rest]\n",
    "    targets = [target_source, target_rest]\n",
    "\n",
    "    evaluator = ne.BSSEvalScale(targets, estimates, ['ins3', 'rest'])\n",
    "    scores = evaluator.evaluate()\n",
    "\n",
    "    os.makedirs(model_path + scores_folder, exist_ok=True)\n",
    "    output_file = model_path + scores_folder + name.replace('wav', 'json')\n",
    "    with open(output_file, 'w') as f:\n",
    "        json.dump(scores, f, indent=4)"
   ]
  },
  {
   "cell_type": "code",
   "execution_count": null,
   "metadata": {},
   "outputs": [],
   "source": [
    "folder = 'scores/test/'\n",
    "json_files = glob.glob(str(model_path) + folder + '*.json')\n",
    "\n",
    "df = ne.aggregate_score_files(json_files, aggregator=np.nanmedian)\n",
    "report_card = ne.report_card(df, report_each_source=True)\n",
    "print(report_card)\n",
    "with open(model_path + 'report_card.json', 'w') as f:\n",
    "    json.dump(report_card, f, indent=4)"
   ]
  }
 ],
 "metadata": {
  "kernelspec": {
   "display_name": "Python 3 (ipykernel)",
   "language": "python",
   "name": "python3"
  },
  "language_info": {
   "codemirror_mode": {
    "name": "ipython",
    "version": 3
   },
   "file_extension": ".py",
   "mimetype": "text/x-python",
   "name": "python",
   "nbconvert_exporter": "python",
   "pygments_lexer": "ipython3",
   "version": "3.9.15"
  }
 },
 "nbformat": 4,
 "nbformat_minor": 4
}
