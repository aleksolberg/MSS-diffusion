{
 "cells": [
  {
   "cell_type": "code",
   "execution_count": null,
   "metadata": {
    "execution": {
     "iopub.execute_input": "2023-06-11T10:54:42.940071Z",
     "iopub.status.busy": "2023-06-11T10:54:42.939600Z",
     "iopub.status.idle": "2023-06-11T10:55:08.822024Z",
     "shell.execute_reply": "2023-06-11T10:55:08.820473Z",
     "shell.execute_reply.started": "2023-06-11T10:54:42.940032Z"
    }
   },
   "outputs": [],
   "source": [
    "%%capture\n",
    "%pip install einops pytorch_lightning diffusers==0.12.1 kornia librosa accelerate torchvision pandas==1.5.2 accelerate"
   ]
  },
  {
   "cell_type": "code",
   "execution_count": null,
   "metadata": {
    "execution": {
     "iopub.execute_input": "2023-06-11T10:55:08.826084Z",
     "iopub.status.busy": "2023-06-11T10:55:08.824634Z",
     "iopub.status.idle": "2023-06-11T10:55:15.143206Z",
     "shell.execute_reply": "2023-06-11T10:55:15.142102Z",
     "shell.execute_reply.started": "2023-06-11T10:55:08.826030Z"
    }
   },
   "outputs": [],
   "source": [
    "import torch\n",
    "import pytorch_lightning as pl\n",
    "\n",
    "import numpy as np\n",
    "import matplotlib as mpl\n",
    "import matplotlib.pyplot as plt\n",
    "from torchvision.utils import save_image\n",
    "\n",
    "from src import *\n",
    "\n",
    "mpl.rcParams['figure.figsize'] = (8, 8)\n",
    "device = torch.device(\"cuda:0\" if torch.cuda.is_available() else \"cpu\")"
   ]
  },
  {
   "attachments": {},
   "cell_type": "markdown",
   "metadata": {},
   "source": [
    "### Datasets"
   ]
  },
  {
   "cell_type": "code",
   "execution_count": null,
   "metadata": {
    "execution": {
     "iopub.execute_input": "2023-06-11T10:55:15.145181Z",
     "iopub.status.busy": "2023-06-11T10:55:15.144581Z",
     "iopub.status.idle": "2023-06-11T10:55:26.780275Z",
     "shell.execute_reply": "2023-06-11T10:55:26.778714Z",
     "shell.execute_reply.started": "2023-06-11T10:55:15.145143Z"
    }
   },
   "outputs": [],
   "source": [
    "train_ds=SpectrogramDataset(target_dir='datasets/randomMIDI/PianoViolin11025/WAV/train/ins3',\n",
    "                            condition_dir='datasets/randomMIDI/PianoViolin11025/WAV/train/mix',\n",
    "                            return_pair=True,\n",
    "                            out_channels=1,\n",
    "                            return_mask=True\n",
    "                     )\n",
    "\n",
    "\n",
    "valid_ds=SpectrogramDataset(target_dir='datasets/randomMIDI/PianoViolin11025/WAV/val/ins3',\n",
    "                          condition_dir='datasets/randomMIDI/PianoViolin11025/WAV/val/mix',\n",
    "                          return_pair=True,\n",
    "                          out_channels=1,\n",
    "                          return_mask=True\n",
    "                     )\n",
    "\n",
    "test_ds=SpectrogramDataset(target_dir='datasets/randomMIDI/PianoViolin11025/WAV/test/ins3',\n",
    "                           condition_dir='datasets/randomMIDI/PianoViolin11025/WAV/test/mix',\n",
    "                           return_pair=True,\n",
    "                           out_channels=1,\n",
    "                           return_mask=True\n",
    "                     )\n",
    "\n",
    "img1,img2=train_ds[0]\n",
    "print(img1.shape)\n",
    "\n",
    "plt.subplot(1,2,1)\n",
    "plt.imshow(img1.permute(1,2,0))\n",
    "plt.subplot(1,2,2)\n",
    "plt.imshow(img2.permute(1,2,0))"
   ]
  },
  {
   "attachments": {},
   "cell_type": "markdown",
   "metadata": {},
   "source": [
    "### Model setup"
   ]
  },
  {
   "cell_type": "code",
   "execution_count": null,
   "metadata": {
    "execution": {
     "iopub.execute_input": "2023-06-11T10:55:32.645355Z",
     "iopub.status.busy": "2023-06-11T10:55:32.644105Z",
     "iopub.status.idle": "2023-06-11T10:55:33.448578Z",
     "shell.execute_reply": "2023-06-11T10:55:33.447525Z",
     "shell.execute_reply.started": "2023-06-11T10:55:32.645316Z"
    }
   },
   "outputs": [],
   "source": [
    "model = plUnet(train_dataset=train_ds,\n",
    "               valid_dataset=valid_ds,\n",
    "               batch_size=8)"
   ]
  },
  {
   "attachments": {},
   "cell_type": "markdown",
   "metadata": {},
   "source": [
    "### Training"
   ]
  },
  {
   "cell_type": "code",
   "execution_count": null,
   "metadata": {
    "execution": {
     "iopub.execute_input": "2023-06-11T10:55:37.150902Z",
     "iopub.status.busy": "2023-06-11T10:55:37.149604Z",
     "iopub.status.idle": "2023-06-11T10:55:37.310927Z",
     "shell.execute_reply": "2023-06-11T10:55:37.309421Z",
     "shell.execute_reply.started": "2023-06-11T10:55:37.150843Z"
    }
   },
   "outputs": [],
   "source": [
    "trainer = pl.Trainer(\n",
    "    default_root_dir=\"trained_models/unet/\",\n",
    "    max_epochs=1000,\n",
    "    callbacks=[EMA(0.9999)],\n",
    "    accelerator='auto'\n",
    ")"
   ]
  },
  {
   "cell_type": "code",
   "execution_count": null,
   "metadata": {
    "execution": {
     "iopub.execute_input": "2023-06-10T20:58:04.649553Z",
     "iopub.status.busy": "2023-06-10T20:58:04.649375Z",
     "iopub.status.idle": "2023-06-11T01:22:14.936439Z",
     "shell.execute_reply": "2023-06-11T01:22:14.935648Z",
     "shell.execute_reply.started": "2023-06-10T20:58:04.649536Z"
    }
   },
   "outputs": [],
   "source": [
    "trainer.fit(model)"
   ]
  },
  {
   "attachments": {},
   "cell_type": "markdown",
   "metadata": {},
   "source": [
    "### Sampling"
   ]
  },
  {
   "cell_type": "code",
   "execution_count": null,
   "metadata": {
    "execution": {
     "iopub.execute_input": "2023-06-11T10:59:20.427894Z",
     "iopub.status.busy": "2023-06-11T10:59:20.427298Z",
     "iopub.status.idle": "2023-06-11T10:59:20.498317Z",
     "shell.execute_reply": "2023-06-11T10:59:20.496754Z",
     "shell.execute_reply.started": "2023-06-11T10:59:20.427847Z"
    }
   },
   "outputs": [],
   "source": [
    "song_num = 0\n",
    "condition, target=test_ds[song_num]\n",
    "batch_input=torch.stack(1*[condition],0).to(device)\n",
    "\n",
    "model.to(device)\n",
    "out=model(batch_input)\n",
    "\n",
    "if test_ds.return_mask:\n",
    "        out = out * condition"
   ]
  },
  {
   "cell_type": "code",
   "execution_count": null,
   "metadata": {
    "execution": {
     "iopub.execute_input": "2023-06-11T10:59:35.044479Z",
     "iopub.status.busy": "2023-06-11T10:59:35.043950Z",
     "iopub.status.idle": "2023-06-11T10:59:35.367303Z",
     "shell.execute_reply": "2023-06-11T10:59:35.366063Z",
     "shell.execute_reply.started": "2023-06-11T10:59:35.044417Z"
    }
   },
   "outputs": [],
   "source": [
    "plt.subplot(1,2+len(out),1)\n",
    "plt.imshow(condition.permute(1,2,0))\n",
    "plt.title('Input')\n",
    "plt.axis('off')\n",
    "for idx in range(out.shape[0]):\n",
    "    plt.subplot(1,2+len(out),idx+2)\n",
    "    plt.imshow(out[idx].detach().cpu().permute(1,2,0))\n",
    "    plt.axis('off')\n",
    "plt.subplot(1,2+len(out),2+len(out))\n",
    "plt.imshow(target.permute(1,2,0))\n",
    "plt.title('Ground Truth')\n",
    "plt.axis('off')"
   ]
  },
  {
   "cell_type": "code",
   "execution_count": null,
   "metadata": {},
   "outputs": [],
   "source": [
    "phase = test_ds.get_phase(song_num)\n",
    "\n",
    "name = test_ds.files[song_num]\n",
    "test_ds.save_audio(out[0].detach().cpu(), phase, name = 'produced_' +  name)\n",
    "test_ds.save_audio(target, phase, name = 'target_' + name)\n",
    "test_ds.save_audio(condition, phase, name = 'condition_' + name)\n",
    "save_image(out[0], 'results/produced_' + name.replace('wav','png'))\n",
    "save_image(condition, 'results/condition_' + name.replace('wav','png'))\n",
    "save_image(target, 'results/target_' + name.replace('wav','png'))"
   ]
  }
 ],
 "metadata": {
  "kernelspec": {
   "display_name": "Python 3 (ipykernel)",
   "language": "python",
   "name": "python3"
  },
  "language_info": {
   "codemirror_mode": {
    "name": "ipython",
    "version": 3
   },
   "file_extension": ".py",
   "mimetype": "text/x-python",
   "name": "python",
   "nbconvert_exporter": "python",
   "pygments_lexer": "ipython3",
   "version": "3.9.15"
  }
 },
 "nbformat": 4,
 "nbformat_minor": 4
}
